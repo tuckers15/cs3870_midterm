{
 "cells": [
  {
   "cell_type": "markdown",
   "id": "8077c7ff-486d-4b3b-8213-05159787bd32",
   "metadata": {
    "deletable": false,
    "editable": false,
    "nbgrader": {
     "cell_type": "markdown",
     "checksum": "c195da61a001bcb71624206b736023aa",
     "grade": false,
     "grade_id": "cell-bdb00e70e3b8fd28",
     "locked": true,
     "schema_version": 3,
     "solution": false,
     "task": false
    }
   },
   "source": [
    "# Homework Midterm: \n",
    "\n",
    "In this assignment, we will be exploring tweets from several high profile Twitter users.  \n",
    "\n",
    "**Collaboration Policy**\n",
    "\n",
    "Data science is a collaborative activity. While you may talk with others about the homework, we ask that you **write your solutions individually**. If you do discuss the assignments with others please **include their names** below."
   ]
  },
  {
   "cell_type": "markdown",
   "id": "eea40f25-9896-42c4-be22-c7bd8c83f5e3",
   "metadata": {
    "deletable": false,
    "editable": false,
    "nbgrader": {
     "cell_type": "markdown",
     "checksum": "cd709a20a03b36fa8cf5bb9cab8f0adf",
     "grade": false,
     "grade_id": "cell-980ba09ebc8aa634",
     "locked": true,
     "schema_version": 3,
     "solution": false,
     "task": false
    }
   },
   "source": [
    "**Collaborators**: *list collaborators here*"
   ]
  },
  {
   "cell_type": "markdown",
   "id": "85f2dd73-1f47-4175-a695-3d41f63fef14",
   "metadata": {},
   "source": [
    "Collaborators: Ava Trueworthy, Reilly, Tucker, Wyatt (sorry, I don't know all the last names)"
   ]
  },
  {
   "cell_type": "markdown",
   "id": "4e8baab9-294b-47f3-986d-2d577d3516c3",
   "metadata": {
    "deletable": false,
    "editable": false,
    "jp-MarkdownHeadingCollapsed": true,
    "nbgrader": {
     "cell_type": "markdown",
     "checksum": "f93cbd83f520b69e32775dae430d0404",
     "grade": false,
     "grade_id": "cell-f058802104ac8e88",
     "locked": true,
     "schema_version": 3,
     "solution": false,
     "task": false
    }
   },
   "source": [
    "### Rubric\n",
    "\n",
    "In general, try to combine the analyses from earlier this semester or create new analysis based on the scaffolding we saw in class and on previous homeworks.\n",
    "\n",
    "Each question is worth 4 points and will be graded based on this rubric:\n",
    "\n",
    "| | 2 points | 1 point | 0 points |\n",
    "|-----|-----|-----|-----|\n",
    "| **Code** | Produces a mostly informative plot or pandas output that addresses the question posed in the student's description and uses at least one of the following pandas dataframe/series methods: `groupby`, `agg`, `merge`, `pivot_table`, `str`, `apply` | Attempts to produce a plot or manipulate data but the output is unrelated to the proposed question, or doesn't utilize at least one of the listed methods | No attempt at writing code |\n",
    "| **Description** | Describes the analysis question and procedure comprehensively and summarizes results correctly | Attempts to describe analysis and results but description of results is incorrect or analysis of results is disconnected from the student’s original question | No attempt at writing a description |\n",
    "### Score Breakdown\n",
    "\n",
    "Question | Points\n",
    "--- | ---\n",
    "Part 1|4\n",
    "Part 2|4\n",
    "Part 3|4\n",
    "Part 4|4\n",
    "Part 5|4\n",
    "**Total** | **20**"
   ]
  },
  {
   "cell_type": "markdown",
   "id": "62de1a00-55d3-42e7-b6aa-c531331a5deb",
   "metadata": {
    "deletable": false,
    "editable": false,
    "nbgrader": {
     "cell_type": "markdown",
     "checksum": "e34bf8852ddae62cd74a7c705df2aa3e",
     "grade": false,
     "grade_id": "cell-e96c64700347d028",
     "locked": true,
     "schema_version": 3,
     "solution": false,
     "task": false
    }
   },
   "source": [
    "Before we begin:\n",
    "## Which dataset did you choose?"
   ]
  },
  {
   "cell_type": "markdown",
   "id": "50f7241d-fdc6-4b81-997d-ef7f2240c08d",
   "metadata": {
    "deletable": false,
    "editable": false,
    "nbgrader": {
     "cell_type": "markdown",
     "checksum": "18859e1b23856028c08e37043afb70c4",
     "grade": false,
     "grade_id": "Dataset",
     "locked": true,
     "points": 0,
     "schema_version": 3,
     "solution": false,
     "task": true
    }
   },
   "source": []
  },
  {
   "cell_type": "markdown",
   "id": "aebe598f-1660-4aa9-8f31-0e8ad06d7e9d",
   "metadata": {},
   "source": [
    "what type of drug is the best in terms of emotional response, model the sentiment. focus on a few of the diseases, birth control, acne, depression\n",
    "\n",
    "before that, we can look at rating, maybe rating over time, same condition how many different drugs are used\n",
    "\n",
    "so were gonna make a new column with the sentiment score thing\n",
    "\n",
    "we could look at the rating vs the sentiment"
   ]
  },
  {
   "cell_type": "code",
   "execution_count": 1,
   "id": "c0426062-2e3b-4518-afd3-770cceb846ec",
   "metadata": {},
   "outputs": [],
   "source": [
    "# Run this cell to set up your notebook\n",
    "import numpy as np\n",
    "import pandas as pd\n",
    "import matplotlib.pyplot as plt\n",
    "import seaborn as sns\n",
    "\n",
    "import re"
   ]
  },
  {
   "cell_type": "markdown",
   "id": "65d21cbe-0200-42ce-8367-b861c6d767a2",
   "metadata": {
    "deletable": false,
    "editable": false,
    "nbgrader": {
     "cell_type": "markdown",
     "checksum": "528cb7eeb36cb17f3e2abaacf10f70c3",
     "grade": false,
     "grade_id": "cell-ff822ea9129f457a",
     "locked": true,
     "schema_version": 3,
     "solution": false,
     "task": false
    }
   },
   "source": [
    "---\n",
    "# Part 1: Data Preparation\n",
    "**Hint:** the in class lab we went through which introduced EDA will be very helpful here"
   ]
  },
  {
   "cell_type": "markdown",
   "id": "92339c9d-18ee-4b70-9904-cb4dd6e7c4f4",
   "metadata": {
    "deletable": false,
    "editable": false,
    "nbgrader": {
     "cell_type": "markdown",
     "checksum": "5592374d9f1c8e5554072739fbb46700",
     "grade": false,
     "grade_id": "cell-efacb9a66ce2b206",
     "locked": true,
     "schema_version": 3,
     "solution": false,
     "task": false
    }
   },
   "source": [
    "\n",
    "Now that we have obtained the data we want to understand its:\n",
    "\n",
    "* **Structure** -- the \"shape\" of a data file\n",
    "* **Granularity** -- how fine/coarse is each datum\n",
    "* **Scope** -- how (in)complete is the data\n",
    "* **Temporality** -- how is the data situated in time\n",
    "* **Faithfulness** -- how well does the data capture \"reality\""
   ]
  },
  {
   "cell_type": "markdown",
   "id": "ecf9e948-f5a6-4058-ba0c-1793549a2991",
   "metadata": {
    "deletable": false,
    "editable": false,
    "nbgrader": {
     "cell_type": "markdown",
     "checksum": "edbbfea4dcca4cc190af1f2d93b5bae1",
     "grade": false,
     "grade_id": "cell-e426c6e11273bcd4",
     "locked": true,
     "schema_version": 3,
     "solution": false,
     "task": false
    }
   },
   "source": [
    "## Question: Structure\n",
    "What format is the data in? \n",
    "\n",
    "<ol style=\"list-style-type: lower-alpha;\">\n",
    "    <li>CSV</li>\n",
    "    <li>HTML</li>\n",
    "    <li>JavaScript Object Notation (JSON)</li>\n",
    "    <li>Excel XML</li>\n",
    "</ol>\n",
    "\n",
    "Pandas has built-in readers for many different file formats including the file format used here.  To learn more about these, check out the documentation for [`pd.read_csv`](https://pandas.pydata.org/pandas-docs/stable/reference/api/pandas.read_csv.html), [`pd.read_html`](https://pandas.pydata.org/pandas-docs/stable/reference/api/pandas.read_html.html), [`pd.read_json`](https://pandas.pydata.org/pandas-docs/stable/reference/api/pandas.read_json.html), and [`pd.read_excel`](https://pandas.pydata.org/pandas-docs/stable/reference/api/pandas.read_excel.html).  "
   ]
  },
  {
   "cell_type": "markdown",
   "id": "aabd7204-e13b-47cf-84fb-48a5778c815c",
   "metadata": {},
   "source": [
    "The data was originally in a TSV file (tab-separated values), but then we converted it to a CSV file."
   ]
  },
  {
   "cell_type": "code",
   "execution_count": 2,
   "id": "b4fb4860-4a88-4439-8d66-fed2f245aaec",
   "metadata": {},
   "outputs": [
    {
     "data": {
      "text/html": [
       "<div>\n",
       "<style scoped>\n",
       "    .dataframe tbody tr th:only-of-type {\n",
       "        vertical-align: middle;\n",
       "    }\n",
       "\n",
       "    .dataframe tbody tr th {\n",
       "        vertical-align: top;\n",
       "    }\n",
       "\n",
       "    .dataframe thead th {\n",
       "        text-align: right;\n",
       "    }\n",
       "</style>\n",
       "<table border=\"1\" class=\"dataframe\">\n",
       "  <thead>\n",
       "    <tr style=\"text-align: right;\">\n",
       "      <th></th>\n",
       "      <th>drugName</th>\n",
       "      <th>condition</th>\n",
       "      <th>review</th>\n",
       "      <th>rating</th>\n",
       "      <th>date</th>\n",
       "      <th>usefulCount</th>\n",
       "    </tr>\n",
       "    <tr>\n",
       "      <th>id</th>\n",
       "      <th></th>\n",
       "      <th></th>\n",
       "      <th></th>\n",
       "      <th></th>\n",
       "      <th></th>\n",
       "      <th></th>\n",
       "    </tr>\n",
       "  </thead>\n",
       "  <tbody>\n",
       "    <tr>\n",
       "      <th>206461</th>\n",
       "      <td>Valsartan</td>\n",
       "      <td>Left Ventricular Dysfunction</td>\n",
       "      <td>\"It has no side effect, I take it in combinati...</td>\n",
       "      <td>9.0</td>\n",
       "      <td>May 20, 2012</td>\n",
       "      <td>27</td>\n",
       "    </tr>\n",
       "    <tr>\n",
       "      <th>95260</th>\n",
       "      <td>Guanfacine</td>\n",
       "      <td>ADHD</td>\n",
       "      <td>\"My son is halfway through his fourth week of ...</td>\n",
       "      <td>8.0</td>\n",
       "      <td>April 27, 2010</td>\n",
       "      <td>192</td>\n",
       "    </tr>\n",
       "    <tr>\n",
       "      <th>92703</th>\n",
       "      <td>Lybrel</td>\n",
       "      <td>Birth Control</td>\n",
       "      <td>\"I used to take another oral contraceptive, wh...</td>\n",
       "      <td>5.0</td>\n",
       "      <td>December 14, 2009</td>\n",
       "      <td>17</td>\n",
       "    </tr>\n",
       "    <tr>\n",
       "      <th>138000</th>\n",
       "      <td>Ortho Evra</td>\n",
       "      <td>Birth Control</td>\n",
       "      <td>\"This is my first time using any form of birth...</td>\n",
       "      <td>8.0</td>\n",
       "      <td>November 3, 2015</td>\n",
       "      <td>10</td>\n",
       "    </tr>\n",
       "    <tr>\n",
       "      <th>35696</th>\n",
       "      <td>Buprenorphine / naloxone</td>\n",
       "      <td>Opiate Dependence</td>\n",
       "      <td>\"Suboxone has completely turned my life around...</td>\n",
       "      <td>9.0</td>\n",
       "      <td>November 27, 2016</td>\n",
       "      <td>37</td>\n",
       "    </tr>\n",
       "  </tbody>\n",
       "</table>\n",
       "</div>"
      ],
      "text/plain": [
       "                        drugName                     condition  \\\n",
       "id                                                               \n",
       "206461                 Valsartan  Left Ventricular Dysfunction   \n",
       "95260                 Guanfacine                          ADHD   \n",
       "92703                     Lybrel                 Birth Control   \n",
       "138000                Ortho Evra                 Birth Control   \n",
       "35696   Buprenorphine / naloxone             Opiate Dependence   \n",
       "\n",
       "                                                   review  rating  \\\n",
       "id                                                                  \n",
       "206461  \"It has no side effect, I take it in combinati...     9.0   \n",
       "95260   \"My son is halfway through his fourth week of ...     8.0   \n",
       "92703   \"I used to take another oral contraceptive, wh...     5.0   \n",
       "138000  \"This is my first time using any form of birth...     8.0   \n",
       "35696   \"Suboxone has completely turned my life around...     9.0   \n",
       "\n",
       "                     date  usefulCount  \n",
       "id                                      \n",
       "206461       May 20, 2012           27  \n",
       "95260      April 27, 2010          192  \n",
       "92703   December 14, 2009           17  \n",
       "138000   November 3, 2015           10  \n",
       "35696   November 27, 2016           37  "
      ]
     },
     "execution_count": 2,
     "metadata": {},
     "output_type": "execute_result"
    }
   ],
   "source": [
    "# Import data\n",
    "drugs = pd.read_csv('drugsComTrain_raw.csv', index_col=0)\n",
    "drugs = drugs.rename_axis('id')\n",
    "drugs.head()"
   ]
  },
  {
   "cell_type": "markdown",
   "id": "1345b4ad-feed-40e5-a648-b0fc99861e19",
   "metadata": {
    "deletable": false,
    "editable": false,
    "nbgrader": {
     "cell_type": "markdown",
     "checksum": "66a4d6861a74cc9982499c6dc559eb0a",
     "grade": false,
     "grade_id": "cell-7884ab86e5180e33",
     "locked": true,
     "schema_version": 3,
     "solution": false,
     "task": false
    }
   },
   "source": [
    "## Question: Granularity\n",
    "**a)** What is the granularity of the data (i.e. what does each row represent)?   \n",
    "**b)** Based on the granularity and the variables present in the data, what might some limitations of using this data be? What are two additional data categories/variables that you can collect to address some of these limitations?"
   ]
  },
  {
   "cell_type": "markdown",
   "id": "93d222cb-6134-49f7-95b1-f3ce21d8b178",
   "metadata": {},
   "source": [
    "The granularity of the data is individual reviews. Each row represents one review written by one patient.\n",
    "Some limitations of using this data are that you can't determine if the patient was using the pharmaceutical that they reviewed correctly/according to their doctor's instructions, which would impact their experience of using it."
   ]
  },
  {
   "cell_type": "markdown",
   "id": "0699d8f0-3138-418a-99c2-0b9628ed1846",
   "metadata": {
    "deletable": false,
    "editable": false,
    "nbgrader": {
     "cell_type": "markdown",
     "checksum": "09ef246b72c6cba7ecddc2d7e89f41a8",
     "grade": false,
     "grade_id": "cell-1fc6e9364316ee24",
     "locked": true,
     "schema_version": 3,
     "solution": false,
     "task": false
    }
   },
   "source": [
    "## Question: Scope\n",
    "how (in)complete is the data?\n",
    "\n",
    "Do variables have missing values? How can we quantify it?    \n",
    "If there are missing values what are you dealing with it, what implications will it have?\n",
    "\n",
    "## Question: Temporality\n",
    "how is the data situated in time? Are there periodic patterns you expect wil emerge in the analysis?"
   ]
  },
  {
   "cell_type": "markdown",
   "id": "8abc8cc4-5d63-4f7f-9190-12b96179770e",
   "metadata": {},
   "source": [
    "The data is pretty complete -- there aren't many missing values. Some text irregularities in the \"review\" column were fixed using regular expressions.\n",
    "\n",
    "The data spans a little less than 10 years. The first review dates back to April 1st, 2008, and the last review is from September 9, 2017. I don't expect to see any periodic trends because none of the data relate to a variable that would be likely to change over time."
   ]
  },
  {
   "cell_type": "markdown",
   "id": "8c6a3c0f-54ba-4a6f-a356-29fb013ff39f",
   "metadata": {
    "deletable": false,
    "editable": false,
    "nbgrader": {
     "cell_type": "markdown",
     "checksum": "55b55745056813a88dac76fc16a17a5d",
     "grade": false,
     "grade_id": "cell-8ef9b3906c9578f8",
     "locked": true,
     "schema_version": 3,
     "solution": false,
     "task": false
    }
   },
   "source": [
    "## Question: Faithfulness\n",
    "How well does the data capture \"reality\"?\n",
    "\n",
    "What question do you want to answer with the data and which variable will you focus on to build a model around? In other words:    \n",
    "What is your chosen target variable?"
   ]
  },
  {
   "cell_type": "markdown",
   "id": "62892d18-2b95-4b49-9034-c87de8d3dd5b",
   "metadata": {
    "deletable": false,
    "nbgrader": {
     "cell_type": "markdown",
     "checksum": "91cd448df01b47f298348058d48e2ab3",
     "grade": true,
     "grade_id": "Part1",
     "locked": false,
     "points": 4,
     "schema_version": 3,
     "solution": true,
     "task": false
    }
   },
   "source": [
    "We are trying to determine how the sentiment and polarity of a review are related to the rating associated with the review.  We want to determine if using the polarity assessment is an accurate indicator of the rating."
   ]
  },
  {
   "cell_type": "markdown",
   "id": "e55d33d8-c4b3-41f5-a8d7-4eada946f362",
   "metadata": {
    "deletable": false,
    "editable": false,
    "nbgrader": {
     "cell_type": "markdown",
     "checksum": "ec5d26eeb0a39636cbc0638c2f91b7f1",
     "grade": false,
     "grade_id": "cell-50b817a0e6c5d5a8",
     "locked": true,
     "schema_version": 3,
     "solution": false,
     "task": false
    }
   },
   "source": [
    "---\n",
    "# Part 2: Exploratory Data Analysis\n",
    "\n",
    "In this section, we will make a series of exploratory visualizations and interpret them.\n",
    "\n",
    "Note that we will perform EDA on the **training data** so that information from the test data does not influence our modeling decisions.\n"
   ]
  },
  {
   "cell_type": "markdown",
   "id": "72ab9756-7e4f-4f9c-960f-997066542f25",
   "metadata": {
    "deletable": false,
    "editable": false,
    "nbgrader": {
     "cell_type": "markdown",
     "checksum": "dc5b01cbe3879b652affbef7ec8e3e20",
     "grade": false,
     "grade_id": "cell-f936f8c96587849a",
     "locked": true,
     "schema_version": 3,
     "solution": false,
     "task": false
    }
   },
   "source": [
    "Begin by examining your target variable. Use some plotting tools that are informative of the distribution of the target variaple (e.g. a KDE, a histogram, a strip plot, or a box plot) also take a look at some descriptive statistics of this variable. Include a legend, xlabel, ylabel, and title. After creating the plot, look at it and make sure you understand what the plot is actually telling us,"
   ]
  },
  {
   "cell_type": "code",
   "execution_count": 3,
   "id": "8490862e",
   "metadata": {
    "scrolled": true
   },
   "outputs": [
    {
     "name": "stderr",
     "output_type": "stream",
     "text": [
      "/var/folders/rw/g43856753d3g8m438m_lm6cr0000gn/T/ipykernel_77696/247403775.py:5: SettingWithCopyWarning: \n",
      "A value is trying to be set on a copy of a slice from a DataFrame.\n",
      "Try using .loc[row_indexer,col_indexer] = value instead\n",
      "\n",
      "See the caveats in the documentation: https://pandas.pydata.org/pandas-docs/stable/user_guide/indexing.html#returning-a-view-versus-a-copy\n",
      "  birth_control_data['date'] = pd.to_datetime(birth_control_data['date'])\n",
      "/var/folders/rw/g43856753d3g8m438m_lm6cr0000gn/T/ipykernel_77696/247403775.py:8: SettingWithCopyWarning: \n",
      "A value is trying to be set on a copy of a slice from a DataFrame.\n",
      "Try using .loc[row_indexer,col_indexer] = value instead\n",
      "\n",
      "See the caveats in the documentation: https://pandas.pydata.org/pandas-docs/stable/user_guide/indexing.html#returning-a-view-versus-a-copy\n",
      "  birth_control_data['year'] = birth_control_data['date'].dt.year\n",
      "/var/folders/rw/g43856753d3g8m438m_lm6cr0000gn/T/ipykernel_77696/247403775.py:14: DeprecationWarning: DataFrameGroupBy.apply operated on the grouping columns. This behavior is deprecated, and in a future version of pandas the grouping columns will be excluded from the operation. Either pass `include_groups=False` to exclude the groupings or explicitly select the grouping columns after groupby to silence this warning.\n",
      "  top_3_by_count_per_year = yearly_counts.groupby('year').apply(lambda x: x.nlargest(3, 'count')).reset_index(drop=True)\n"
     ]
    },
    {
     "data": {
      "image/png": "[encoded data removed]",
      "text/plain": [
       "<Figure size 1400x800 with 1 Axes>"
      ]
     },
     "metadata": {},
     "output_type": "display_data"
    }
   ],
   "source": [
    "# Filter the data for 'Birth Control' condition and sort by date\n",
    "birth_control_data = drugs[drugs['condition'] == 'Birth Control']\n",
    "\n",
    "# Convert the 'date' column to datetime for easier manipulation\n",
    "birth_control_data['date'] = pd.to_datetime(birth_control_data['date'])\n",
    "\n",
    "# Group by drugName and calculate the average rating for each drug by year\n",
    "birth_control_data['year'] = birth_control_data['date'].dt.year\n",
    "\n",
    "# Group the data by year and drugName, calculating the count per year per drug\n",
    "yearly_counts = birth_control_data.groupby(['year', 'drugName']).size().reset_index(name='count')\n",
    "\n",
    "# For each year, get the top 3 drugs by count\n",
    "top_3_by_count_per_year = yearly_counts.groupby('year').apply(lambda x: x.nlargest(3, 'count')).reset_index(drop=True)\n",
    "\n",
    "# Sort by year to ensure drugs are ordered chronologically\n",
    "top_3_by_count_per_year = top_3_by_count_per_year.sort_values(by='year')\n",
    "\n",
    "# Create a color palette for drugs\n",
    "unique_drugs = top_3_by_count_per_year['drugName'].unique()\n",
    "palette = sns.color_palette(\"hsv\", len(unique_drugs))\n",
    "colors = {drug: palette[i] for i, drug in enumerate(unique_drugs)}\n",
    "\n",
    "# Create a bar plot with dynamic colors by drug name and count labels\n",
    "plt.figure(figsize=(14, 8))\n",
    "\n",
    "# Combine 'year' and 'drugName' to form x-axis labels\n",
    "x_labels = top_3_by_count_per_year['year'].astype(str) + ' (' + top_3_by_count_per_year['drugName'] + ')'\n",
    "\n",
    "plt.bar(x_labels, top_3_by_count_per_year['count'], color=[colors[drug] for drug in top_3_by_count_per_year['drugName']])\n",
    "\n",
    "# Add count labels\n",
    "for i, count in enumerate(top_3_by_count_per_year['count']):\n",
    "    plt.text(i, count + 0.05, f'{count}', ha='center')\n",
    "\n",
    "# Set the x-ticks to be ordered by year with drugs grouped under each year\n",
    "plt.title('Top 3 Birth Control Drugs by Count for Each Year', fontsize=16)\n",
    "plt.xlabel('Year (Drug)', fontsize=12)\n",
    "plt.ylabel('Count', fontsize=12)\n",
    "plt.xticks(rotation=50, ha='right')\n",
    "plt.grid(True)\n",
    "plt.tight_layout()\n",
    "plt.show()"
   ]
  },
  {
   "cell_type": "code",
   "execution_count": 4,
   "id": "f9e3973a",
   "metadata": {},
   "outputs": [
    {
     "data": {
      "image/png": "[encoded data removed]",
      "text/plain": [
       "<Figure size 1000x600 with 1 Axes>"
      ]
     },
     "metadata": {},
     "output_type": "display_data"
    }
   ],
   "source": [
    "plt.figure(figsize=(10, 6))\n",
    "plt.hist(birth_control_data['rating'], bins=10, edgecolor='black', color='skyblue')\n",
    "plt.title('Distribution of Ratings for Birth Control Reviews', fontsize=16)\n",
    "plt.xlabel('Rating', fontsize=12)\n",
    "plt.ylabel('Frequency', fontsize=12)\n",
    "plt.grid(True)\n",
    "plt.show()"
   ]
  },
  {
   "cell_type": "markdown",
   "id": "e51c174a-0a0d-4376-a34c-246fbdd9eee2",
   "metadata": {
    "deletable": false,
    "editable": false,
    "nbgrader": {
     "cell_type": "markdown",
     "checksum": "c29837c5ec67f12ee718dc1b9c7d279d",
     "grade": false,
     "grade_id": "cell-34e590b06a45355c",
     "locked": true,
     "schema_version": 3,
     "solution": false,
     "task": false
    }
   },
   "source": [
    "## Question\n",
    "\n",
    "What can you say about your target variable from these initial analysis?"
   ]
  },
  {
   "cell_type": "markdown",
   "id": "1d88588b-a355-4230-bf98-2c26f3d2cb07",
   "metadata": {
    "deletable": false,
    "editable": false,
    "nbgrader": {
     "cell_type": "markdown",
     "checksum": "b92bb8507e849c20c131fdcdf84de8fb",
     "grade": false,
     "grade_id": "cell-3d8f6c393bf0b027",
     "locked": true,
     "schema_version": 3,
     "solution": false,
     "task": false
    }
   },
   "source": [
    "## Question\n",
    "Use sns.histplot or any other function of your choice to create a plot that overlays two or more groups of variables. Remember to keep the granularity of the two data sets consistent.\n",
    "\n",
    "**a)** How do the groups compare to one another?\n",
    "\n",
    "The density plots do not show us how the counts for registered and casual riders vary together use a scatter plot to investigate the relationship between casual and registered counts. \n",
    "\n",
    "**b)** How do the groups compare to one another now?"
   ]
  },
  {
   "cell_type": "markdown",
   "id": "c2ec330d-e52c-480f-8e66-ce3f46d9e117",
   "metadata": {
    "deletable": false,
    "nbgrader": {
     "cell_type": "markdown",
     "checksum": "e38a3b39b2dc0d213d8907f6ad45599b",
     "grade": true,
     "grade_id": "Part2",
     "locked": false,
     "points": 4,
     "schema_version": 3,
     "solution": true,
     "task": false
    }
   },
   "source": [
    "YOUR ANSWER HERE"
   ]
  },
  {
   "cell_type": "markdown",
   "id": "d03d8e63-6d03-4dff-945c-8e2b24b70e0e",
   "metadata": {
    "deletable": false,
    "editable": false,
    "nbgrader": {
     "cell_type": "markdown",
     "checksum": "fd4252fc2ec15e8192255231e824047b",
     "grade": false,
     "grade_id": "cell-0b221af983cb5b4f",
     "locked": true,
     "schema_version": 3,
     "solution": false,
     "task": false
    }
   },
   "source": [
    "---\n",
    "# Part 3: Feature Engineering\n",
    "A few of the variables that encode categorical data and other qualitative.   \n",
    "Use one of techniques we saw in class to create a new variable.\n",
    "\n",
    "**a)** What type of transformation did you use?   \n",
    "**b)** Why did you make this decision?\n"
   ]
  },
  {
   "cell_type": "markdown",
   "id": "6b69bff8-7218-45ff-b3a5-5a451d658dc0",
   "metadata": {
    "deletable": false,
    "nbgrader": {
     "cell_type": "markdown",
     "checksum": "00c0180ee6ed1606403a93d158a289b6",
     "grade": true,
     "grade_id": "Part3",
     "locked": false,
     "points": 4,
     "schema_version": 3,
     "solution": true,
     "task": false
    }
   },
   "source": [
    "We made a new variable for sentiment analysis to assess the reviews for each of the drugs "
   ]
  },
  {
   "cell_type": "code",
   "execution_count": 5,
   "id": "b4fc6473-b925-4ef1-911d-9e499bb6aafc",
   "metadata": {},
   "outputs": [
    {
     "data": {
      "text/html": [
       "<div>\n",
       "<style scoped>\n",
       "    .dataframe tbody tr th:only-of-type {\n",
       "        vertical-align: middle;\n",
       "    }\n",
       "\n",
       "    .dataframe tbody tr th {\n",
       "        vertical-align: top;\n",
       "    }\n",
       "\n",
       "    .dataframe thead th {\n",
       "        text-align: right;\n",
       "    }\n",
       "</style>\n",
       "<table border=\"1\" class=\"dataframe\">\n",
       "  <thead>\n",
       "    <tr style=\"text-align: right;\">\n",
       "      <th></th>\n",
       "      <th>polarity</th>\n",
       "    </tr>\n",
       "    <tr>\n",
       "      <th>token</th>\n",
       "      <th></th>\n",
       "    </tr>\n",
       "  </thead>\n",
       "  <tbody>\n",
       "    <tr>\n",
       "      <th>$:</th>\n",
       "      <td>-1.5</td>\n",
       "    </tr>\n",
       "    <tr>\n",
       "      <th>%)</th>\n",
       "      <td>-0.4</td>\n",
       "    </tr>\n",
       "    <tr>\n",
       "      <th>%-)</th>\n",
       "      <td>-1.5</td>\n",
       "    </tr>\n",
       "    <tr>\n",
       "      <th>&amp;-:</th>\n",
       "      <td>-0.4</td>\n",
       "    </tr>\n",
       "    <tr>\n",
       "      <th>&amp;:</th>\n",
       "      <td>-0.7</td>\n",
       "    </tr>\n",
       "  </tbody>\n",
       "</table>\n",
       "</div>"
      ],
      "text/plain": [
       "       polarity\n",
       "token          \n",
       "$:         -1.5\n",
       "%)         -0.4\n",
       "%-)        -1.5\n",
       "&-:        -0.4\n",
       "&:         -0.7"
      ]
     },
     "execution_count": 5,
     "metadata": {},
     "output_type": "execute_result"
    }
   ],
   "source": [
    "# Load in vader data for assessment of polarity \n",
    "sentiment = pd.read_csv(\"vader_lexicon.txt\", sep='\\t', index_col=0, usecols=[0, 1], names=['token', 'polarity'])\n",
    "sentiment.head()"
   ]
  },
  {
   "cell_type": "code",
   "execution_count": 6,
   "id": "43aa6186-bd82-4549-ae5d-62cd476660f5",
   "metadata": {},
   "outputs": [
    {
     "data": {
      "text/html": [
       "<div>\n",
       "<style scoped>\n",
       "    .dataframe tbody tr th:only-of-type {\n",
       "        vertical-align: middle;\n",
       "    }\n",
       "\n",
       "    .dataframe tbody tr th {\n",
       "        vertical-align: top;\n",
       "    }\n",
       "\n",
       "    .dataframe thead th {\n",
       "        text-align: right;\n",
       "    }\n",
       "</style>\n",
       "<table border=\"1\" class=\"dataframe\">\n",
       "  <thead>\n",
       "    <tr style=\"text-align: right;\">\n",
       "      <th></th>\n",
       "      <th>drugName</th>\n",
       "      <th>condition</th>\n",
       "      <th>review</th>\n",
       "      <th>rating</th>\n",
       "      <th>date</th>\n",
       "      <th>usefulCount</th>\n",
       "      <th>clean_text</th>\n",
       "    </tr>\n",
       "    <tr>\n",
       "      <th>id</th>\n",
       "      <th></th>\n",
       "      <th></th>\n",
       "      <th></th>\n",
       "      <th></th>\n",
       "      <th></th>\n",
       "      <th></th>\n",
       "      <th></th>\n",
       "    </tr>\n",
       "  </thead>\n",
       "  <tbody>\n",
       "    <tr>\n",
       "      <th>206461</th>\n",
       "      <td>Valsartan</td>\n",
       "      <td>Left Ventricular Dysfunction</td>\n",
       "      <td>\"It has no side effect, I take it in combinati...</td>\n",
       "      <td>9.0</td>\n",
       "      <td>May 20, 2012</td>\n",
       "      <td>27</td>\n",
       "      <td>it has no side effect i take it in combination...</td>\n",
       "    </tr>\n",
       "    <tr>\n",
       "      <th>95260</th>\n",
       "      <td>Guanfacine</td>\n",
       "      <td>ADHD</td>\n",
       "      <td>\"My son is halfway through his fourth week of ...</td>\n",
       "      <td>8.0</td>\n",
       "      <td>April 27, 2010</td>\n",
       "      <td>192</td>\n",
       "      <td>my son is halfway through his fourth week of i...</td>\n",
       "    </tr>\n",
       "    <tr>\n",
       "      <th>92703</th>\n",
       "      <td>Lybrel</td>\n",
       "      <td>Birth Control</td>\n",
       "      <td>\"I used to take another oral contraceptive, wh...</td>\n",
       "      <td>5.0</td>\n",
       "      <td>December 14, 2009</td>\n",
       "      <td>17</td>\n",
       "      <td>i used to take another oral contraceptive whic...</td>\n",
       "    </tr>\n",
       "    <tr>\n",
       "      <th>138000</th>\n",
       "      <td>Ortho Evra</td>\n",
       "      <td>Birth Control</td>\n",
       "      <td>\"This is my first time using any form of birth...</td>\n",
       "      <td>8.0</td>\n",
       "      <td>November 3, 2015</td>\n",
       "      <td>10</td>\n",
       "      <td>this is my first time using any form of birth ...</td>\n",
       "    </tr>\n",
       "    <tr>\n",
       "      <th>35696</th>\n",
       "      <td>Buprenorphine / naloxone</td>\n",
       "      <td>Opiate Dependence</td>\n",
       "      <td>\"Suboxone has completely turned my life around...</td>\n",
       "      <td>9.0</td>\n",
       "      <td>November 27, 2016</td>\n",
       "      <td>37</td>\n",
       "      <td>suboxone has completely turned my life around ...</td>\n",
       "    </tr>\n",
       "  </tbody>\n",
       "</table>\n",
       "</div>"
      ],
      "text/plain": [
       "                        drugName                     condition  \\\n",
       "id                                                               \n",
       "206461                 Valsartan  Left Ventricular Dysfunction   \n",
       "95260                 Guanfacine                          ADHD   \n",
       "92703                     Lybrel                 Birth Control   \n",
       "138000                Ortho Evra                 Birth Control   \n",
       "35696   Buprenorphine / naloxone             Opiate Dependence   \n",
       "\n",
       "                                                   review  rating  \\\n",
       "id                                                                  \n",
       "206461  \"It has no side effect, I take it in combinati...     9.0   \n",
       "95260   \"My son is halfway through his fourth week of ...     8.0   \n",
       "92703   \"I used to take another oral contraceptive, wh...     5.0   \n",
       "138000  \"This is my first time using any form of birth...     8.0   \n",
       "35696   \"Suboxone has completely turned my life around...     9.0   \n",
       "\n",
       "                     date  usefulCount  \\\n",
       "id                                       \n",
       "206461       May 20, 2012           27   \n",
       "95260      April 27, 2010          192   \n",
       "92703   December 14, 2009           17   \n",
       "138000   November 3, 2015           10   \n",
       "35696   November 27, 2016           37   \n",
       "\n",
       "                                               clean_text  \n",
       "id                                                         \n",
       "206461  it has no side effect i take it in combination...  \n",
       "95260   my son is halfway through his fourth week of i...  \n",
       "92703   i used to take another oral contraceptive whic...  \n",
       "138000  this is my first time using any form of birth ...  \n",
       "35696   suboxone has completely turned my life around ...  "
      ]
     },
     "execution_count": 6,
     "metadata": {},
     "output_type": "execute_result"
    }
   ],
   "source": [
    "# Clean reviews column\n",
    "punct_re = r\"[^\\w\\s]\" \n",
    "\n",
    "drugs['clean_text'] = drugs['review'].str.lower()\n",
    "drugs['clean_text'] = drugs['clean_text'].str.replace(\"&#039;\", \"\", regex=True) #    &#039; = '\n",
    "drugs['clean_text'] = drugs['clean_text'].str.replace(punct_re, \"\", regex=True)\n",
    "\n",
    "drugs.head()"
   ]
  },
  {
   "cell_type": "code",
   "execution_count": 7,
   "id": "84a51900-86bd-44c7-b951-61226e733ded",
   "metadata": {},
   "outputs": [
    {
     "data": {
      "text/html": [
       "<div>\n",
       "<style scoped>\n",
       "    .dataframe tbody tr th:only-of-type {\n",
       "        vertical-align: middle;\n",
       "    }\n",
       "\n",
       "    .dataframe tbody tr th {\n",
       "        vertical-align: top;\n",
       "    }\n",
       "\n",
       "    .dataframe thead th {\n",
       "        text-align: right;\n",
       "    }\n",
       "</style>\n",
       "<table border=\"1\" class=\"dataframe\">\n",
       "  <thead>\n",
       "    <tr style=\"text-align: right;\">\n",
       "      <th></th>\n",
       "      <th>word</th>\n",
       "    </tr>\n",
       "    <tr>\n",
       "      <th>id</th>\n",
       "      <th></th>\n",
       "    </tr>\n",
       "  </thead>\n",
       "  <tbody>\n",
       "    <tr>\n",
       "      <th>206461</th>\n",
       "      <td>it</td>\n",
       "    </tr>\n",
       "    <tr>\n",
       "      <th>206461</th>\n",
       "      <td>has</td>\n",
       "    </tr>\n",
       "    <tr>\n",
       "      <th>206461</th>\n",
       "      <td>no</td>\n",
       "    </tr>\n",
       "    <tr>\n",
       "      <th>206461</th>\n",
       "      <td>side</td>\n",
       "    </tr>\n",
       "    <tr>\n",
       "      <th>206461</th>\n",
       "      <td>effect</td>\n",
       "    </tr>\n",
       "    <tr>\n",
       "      <th>...</th>\n",
       "      <td>...</td>\n",
       "    </tr>\n",
       "    <tr>\n",
       "      <th>215220</th>\n",
       "      <td>its</td>\n",
       "    </tr>\n",
       "    <tr>\n",
       "      <th>215220</th>\n",
       "      <td>a</td>\n",
       "    </tr>\n",
       "    <tr>\n",
       "      <th>215220</th>\n",
       "      <td>miracle</td>\n",
       "    </tr>\n",
       "    <tr>\n",
       "      <th>215220</th>\n",
       "      <td>for</td>\n",
       "    </tr>\n",
       "    <tr>\n",
       "      <th>215220</th>\n",
       "      <td>me</td>\n",
       "    </tr>\n",
       "  </tbody>\n",
       "</table>\n",
       "<p>13622224 rows × 1 columns</p>\n",
       "</div>"
      ],
      "text/plain": [
       "           word\n",
       "id             \n",
       "206461       it\n",
       "206461      has\n",
       "206461       no\n",
       "206461     side\n",
       "206461   effect\n",
       "...         ...\n",
       "215220      its\n",
       "215220        a\n",
       "215220  miracle\n",
       "215220      for\n",
       "215220       me\n",
       "\n",
       "[13622224 rows x 1 columns]"
      ]
     },
     "execution_count": 7,
     "metadata": {},
     "output_type": "execute_result"
    }
   ],
   "source": [
    "# Create table with individual words of each review to make sentiments easier to calculate\n",
    "tidy_drugs = (\n",
    "        drugs[\"clean_text\"]\n",
    "        .str.split()\n",
    "        .explode()\n",
    "        .to_frame()\n",
    "        .rename(columns={\"clean_text\": \"word\"})\n",
    "    )\n",
    "tidy_drugs"
   ]
  },
  {
   "cell_type": "code",
   "execution_count": 8,
   "id": "57ac7170-7bb5-466d-81c4-7f3ba19d1a45",
   "metadata": {},
   "outputs": [
    {
     "data": {
      "text/html": [
       "<div>\n",
       "<style scoped>\n",
       "    .dataframe tbody tr th:only-of-type {\n",
       "        vertical-align: middle;\n",
       "    }\n",
       "\n",
       "    .dataframe tbody tr th {\n",
       "        vertical-align: top;\n",
       "    }\n",
       "\n",
       "    .dataframe thead th {\n",
       "        text-align: right;\n",
       "    }\n",
       "</style>\n",
       "<table border=\"1\" class=\"dataframe\">\n",
       "  <thead>\n",
       "    <tr style=\"text-align: right;\">\n",
       "      <th></th>\n",
       "      <th>drugName</th>\n",
       "      <th>condition</th>\n",
       "      <th>review</th>\n",
       "      <th>rating</th>\n",
       "      <th>date</th>\n",
       "      <th>usefulCount</th>\n",
       "      <th>clean_text</th>\n",
       "      <th>polarity</th>\n",
       "    </tr>\n",
       "    <tr>\n",
       "      <th>id</th>\n",
       "      <th></th>\n",
       "      <th></th>\n",
       "      <th></th>\n",
       "      <th></th>\n",
       "      <th></th>\n",
       "      <th></th>\n",
       "      <th></th>\n",
       "      <th></th>\n",
       "    </tr>\n",
       "  </thead>\n",
       "  <tbody>\n",
       "    <tr>\n",
       "      <th>206461</th>\n",
       "      <td>Valsartan</td>\n",
       "      <td>Left Ventricular Dysfunction</td>\n",
       "      <td>\"It has no side effect, I take it in combinati...</td>\n",
       "      <td>9.0</td>\n",
       "      <td>May 20, 2012</td>\n",
       "      <td>27</td>\n",
       "      <td>it has no side effect i take it in combination...</td>\n",
       "      <td>-1.2</td>\n",
       "    </tr>\n",
       "    <tr>\n",
       "      <th>95260</th>\n",
       "      <td>Guanfacine</td>\n",
       "      <td>ADHD</td>\n",
       "      <td>\"My son is halfway through his fourth week of ...</td>\n",
       "      <td>8.0</td>\n",
       "      <td>April 27, 2010</td>\n",
       "      <td>192</td>\n",
       "      <td>my son is halfway through his fourth week of i...</td>\n",
       "      <td>8.9</td>\n",
       "    </tr>\n",
       "    <tr>\n",
       "      <th>92703</th>\n",
       "      <td>Lybrel</td>\n",
       "      <td>Birth Control</td>\n",
       "      <td>\"I used to take another oral contraceptive, wh...</td>\n",
       "      <td>5.0</td>\n",
       "      <td>December 14, 2009</td>\n",
       "      <td>17</td>\n",
       "      <td>i used to take another oral contraceptive whic...</td>\n",
       "      <td>3.2</td>\n",
       "    </tr>\n",
       "    <tr>\n",
       "      <th>138000</th>\n",
       "      <td>Ortho Evra</td>\n",
       "      <td>Birth Control</td>\n",
       "      <td>\"This is my first time using any form of birth...</td>\n",
       "      <td>8.0</td>\n",
       "      <td>November 3, 2015</td>\n",
       "      <td>10</td>\n",
       "      <td>this is my first time using any form of birth ...</td>\n",
       "      <td>4.0</td>\n",
       "    </tr>\n",
       "    <tr>\n",
       "      <th>35696</th>\n",
       "      <td>Buprenorphine / naloxone</td>\n",
       "      <td>Opiate Dependence</td>\n",
       "      <td>\"Suboxone has completely turned my life around...</td>\n",
       "      <td>9.0</td>\n",
       "      <td>November 27, 2016</td>\n",
       "      <td>37</td>\n",
       "      <td>suboxone has completely turned my life around ...</td>\n",
       "      <td>10.7</td>\n",
       "    </tr>\n",
       "    <tr>\n",
       "      <th>...</th>\n",
       "      <td>...</td>\n",
       "      <td>...</td>\n",
       "      <td>...</td>\n",
       "      <td>...</td>\n",
       "      <td>...</td>\n",
       "      <td>...</td>\n",
       "      <td>...</td>\n",
       "      <td>...</td>\n",
       "    </tr>\n",
       "    <tr>\n",
       "      <th>191035</th>\n",
       "      <td>Campral</td>\n",
       "      <td>Alcohol Dependence</td>\n",
       "      <td>\"I wrote my first report in Mid-October of 201...</td>\n",
       "      <td>10.0</td>\n",
       "      <td>May 31, 2015</td>\n",
       "      <td>125</td>\n",
       "      <td>i wrote my first report in midoctober of 2014 ...</td>\n",
       "      <td>13.2</td>\n",
       "    </tr>\n",
       "    <tr>\n",
       "      <th>127085</th>\n",
       "      <td>Metoclopramide</td>\n",
       "      <td>Nausea/Vomiting</td>\n",
       "      <td>\"I was given this in IV before surgey. I immed...</td>\n",
       "      <td>1.0</td>\n",
       "      <td>November 1, 2011</td>\n",
       "      <td>34</td>\n",
       "      <td>i was given this in iv before surgey i immedia...</td>\n",
       "      <td>-2.1</td>\n",
       "    </tr>\n",
       "    <tr>\n",
       "      <th>187382</th>\n",
       "      <td>Orencia</td>\n",
       "      <td>Rheumatoid Arthritis</td>\n",
       "      <td>\"Limited improvement after 4 months, developed...</td>\n",
       "      <td>2.0</td>\n",
       "      <td>March 15, 2014</td>\n",
       "      <td>35</td>\n",
       "      <td>limited improvement after 4 months developed b...</td>\n",
       "      <td>-4.3</td>\n",
       "    </tr>\n",
       "    <tr>\n",
       "      <th>47128</th>\n",
       "      <td>Thyroid desiccated</td>\n",
       "      <td>Underactive Thyroid</td>\n",
       "      <td>\"I&amp;#039;ve been on thyroid medication 49 years...</td>\n",
       "      <td>10.0</td>\n",
       "      <td>September 19, 2015</td>\n",
       "      <td>79</td>\n",
       "      <td>ive been on thyroid medication 49 years i spen...</td>\n",
       "      <td>9.3</td>\n",
       "    </tr>\n",
       "    <tr>\n",
       "      <th>215220</th>\n",
       "      <td>Lubiprostone</td>\n",
       "      <td>Constipation, Chronic</td>\n",
       "      <td>\"I&amp;#039;ve had chronic constipation all my adu...</td>\n",
       "      <td>9.0</td>\n",
       "      <td>December 13, 2014</td>\n",
       "      <td>116</td>\n",
       "      <td>ive had chronic constipation all my adult life...</td>\n",
       "      <td>3.0</td>\n",
       "    </tr>\n",
       "  </tbody>\n",
       "</table>\n",
       "<p>161297 rows × 8 columns</p>\n",
       "</div>"
      ],
      "text/plain": [
       "                        drugName                     condition  \\\n",
       "id                                                               \n",
       "206461                 Valsartan  Left Ventricular Dysfunction   \n",
       "95260                 Guanfacine                          ADHD   \n",
       "92703                     Lybrel                 Birth Control   \n",
       "138000                Ortho Evra                 Birth Control   \n",
       "35696   Buprenorphine / naloxone             Opiate Dependence   \n",
       "...                          ...                           ...   \n",
       "191035                   Campral            Alcohol Dependence   \n",
       "127085            Metoclopramide               Nausea/Vomiting   \n",
       "187382                   Orencia          Rheumatoid Arthritis   \n",
       "47128         Thyroid desiccated           Underactive Thyroid   \n",
       "215220              Lubiprostone         Constipation, Chronic   \n",
       "\n",
       "                                                   review  rating  \\\n",
       "id                                                                  \n",
       "206461  \"It has no side effect, I take it in combinati...     9.0   \n",
       "95260   \"My son is halfway through his fourth week of ...     8.0   \n",
       "92703   \"I used to take another oral contraceptive, wh...     5.0   \n",
       "138000  \"This is my first time using any form of birth...     8.0   \n",
       "35696   \"Suboxone has completely turned my life around...     9.0   \n",
       "...                                                   ...     ...   \n",
       "191035  \"I wrote my first report in Mid-October of 201...    10.0   \n",
       "127085  \"I was given this in IV before surgey. I immed...     1.0   \n",
       "187382  \"Limited improvement after 4 months, developed...     2.0   \n",
       "47128   \"I&#039;ve been on thyroid medication 49 years...    10.0   \n",
       "215220  \"I&#039;ve had chronic constipation all my adu...     9.0   \n",
       "\n",
       "                      date  usefulCount  \\\n",
       "id                                        \n",
       "206461        May 20, 2012           27   \n",
       "95260       April 27, 2010          192   \n",
       "92703    December 14, 2009           17   \n",
       "138000    November 3, 2015           10   \n",
       "35696    November 27, 2016           37   \n",
       "...                    ...          ...   \n",
       "191035        May 31, 2015          125   \n",
       "127085    November 1, 2011           34   \n",
       "187382      March 15, 2014           35   \n",
       "47128   September 19, 2015           79   \n",
       "215220   December 13, 2014          116   \n",
       "\n",
       "                                               clean_text  polarity  \n",
       "id                                                                   \n",
       "206461  it has no side effect i take it in combination...      -1.2  \n",
       "95260   my son is halfway through his fourth week of i...       8.9  \n",
       "92703   i used to take another oral contraceptive whic...       3.2  \n",
       "138000  this is my first time using any form of birth ...       4.0  \n",
       "35696   suboxone has completely turned my life around ...      10.7  \n",
       "...                                                   ...       ...  \n",
       "191035  i wrote my first report in midoctober of 2014 ...      13.2  \n",
       "127085  i was given this in iv before surgey i immedia...      -2.1  \n",
       "187382  limited improvement after 4 months developed b...      -4.3  \n",
       "47128   ive been on thyroid medication 49 years i spen...       9.3  \n",
       "215220  ive had chronic constipation all my adult life...       3.0  \n",
       "\n",
       "[161297 rows x 8 columns]"
      ]
     },
     "execution_count": 8,
     "metadata": {},
     "output_type": "execute_result"
    }
   ],
   "source": [
    "# Add polarity \n",
    "drugs[\"polarity\"] = (\n",
    "        tidy_drugs\n",
    "        .merge(sentiment, how='left', left_on='word', right_index=True)\n",
    "        .reset_index()\n",
    "        .loc[:, ['id', 'polarity']]\n",
    "        .groupby('id')\n",
    "        .sum()\n",
    "        .fillna(0)\n",
    "    )\n",
    "\n",
    "drugs"
   ]
  },
  {
   "cell_type": "markdown",
   "id": "bb5dfce6-52da-484e-8995-908cc660cc72",
   "metadata": {
    "deletable": false,
    "editable": false,
    "nbgrader": {
     "cell_type": "markdown",
     "checksum": "12b303999bdc0db5bac935e5a3e73a1d",
     "grade": false,
     "grade_id": "cell-55a3d5d7046a76b1",
     "locked": true,
     "schema_version": 3,
     "solution": false,
     "task": false
    }
   },
   "source": [
    "---\n",
    "# Part 4: Modeling\n",
    "\n",
    "We've reached the point where we can specify a model. But first, we will load a fresh copy of the data, just in case our code above produced any undesired side-effects. Run the cell below to store a fresh copy of the data from `ames_train.csv` in a dataframe named `full_data`. We will also store the number of rows in `full_data` in the variable `full_data_len`.\n",
    "\n",
    "## Question: the model\n",
    "What model are you fitting? Why? How did you choose it?\n",
    "\n",
    "## Question: Cross Validation\n",
    "Now, let's split the data set into a training set and a validation set. We will use the training set to fit our model's parameters, and we will use the validation set to estimate how well our model will perform on unseen data drawn from the same distribution. If we used all the data to fit our model, we would not have a way to estimate model performance on unseen data.\n",
    "\n",
    "## Question: Loss function\n",
    "Choose a the loss function, why did you make this decision?\n",
    "\n",
    "## Question: The quality of the model\n",
    "Is your model good at predicting your target variable?    \n",
    "What is your test error? your validation error? your training error?   \n",
    "\n",
    "What did you do to improve these measures?    \n",
    "    - increase number of variables    \n",
    "    - add a penalty    \n",
    "    - increase complexity of the model    \n",
    "\n",
    "What is your model bias? What is your model's variance? "
   ]
  },
  {
   "cell_type": "code",
   "execution_count": 9,
   "id": "b9cb28a1-f43d-4923-90b1-b11296ac07cd",
   "metadata": {},
   "outputs": [
    {
     "name": "stdout",
     "output_type": "stream",
     "text": [
      "Cross-Entropy Loss: 2.1169\n",
      "Root Mean Squared Error (Test): 3.22\n",
      "Root Mean Squared Error (Training): 3.23\n"
     ]
    },
    {
     "data": {
      "image/png": "[encoded data removed]",
      "text/plain": [
       "<Figure size 640x480 with 1 Axes>"
      ]
     },
     "metadata": {},
     "output_type": "display_data"
    }
   ],
   "source": [
    "from sklearn.model_selection import train_test_split\n",
    "from sklearn.metrics import mean_squared_error\n",
    "from sklearn.preprocessing import StandardScaler\n",
    "import mord as m\n",
    "import matplotlib.pyplot as plt\n",
    "from sklearn.metrics import log_loss  # Import log_loss for cross-entropy calculation\n",
    "\n",
    "full_data = drugs\n",
    "\n",
    "# Dropping any rows that are missing polarity or rating\n",
    "full_data = full_data.dropna(subset=['polarity', 'rating'])\n",
    "\n",
    "# Filtering for birth control\n",
    "birth_control_data = full_data[full_data['condition'] == 'Birth Control']\n",
    "\n",
    "# Feature Selection (polarity as the feature, rating as the target)\n",
    "X = birth_control_data[['polarity']]\n",
    "y = birth_control_data['rating']\n",
    "\n",
    "# Train-Test Split (80% for training, 20% for testing)\n",
    "X_train, X_test, y_train, y_test = train_test_split(X, y, test_size=0.2, random_state=42)\n",
    "\n",
    "# Convert y_train and y_test to integers\n",
    "y_train = y_train.astype(int)\n",
    "y_test = y_test.astype(int)\n",
    "\n",
    "# Scaling the polarity feature\n",
    "scaler = StandardScaler()\n",
    "\n",
    "# Fit the scaler on the training data and transform both train and test sets\n",
    "X_train_scaled = scaler.fit_transform(X_train)\n",
    "X_test_scaled = scaler.transform(X_test)\n",
    "\n",
    "# Initialize Ordinal Logistic Regression model\n",
    "model = m.LogisticAT()  # LogisticAT is the ordinal logistic model from mord\n",
    "\n",
    "# Train the model\n",
    "model.fit(X_train, y_train)\n",
    "\n",
    "# Get predicted probabilities for each class on test set\n",
    "y_prob_test = model.predict_proba(X_test)\n",
    "\n",
    "# Calculate Cross-Entropy Loss (Log Loss) for test set\n",
    "cross_entropy_loss = log_loss(y_test, y_prob_test)\n",
    "print(f\"Cross-Entropy Loss: {cross_entropy_loss:.4f}\")\n",
    "\n",
    "# Make predictions on the test data\n",
    "y_pred_test = model.predict(X_test)\n",
    "\n",
    "# Mean Squared Error (using predicted ratings on test set)\n",
    "mse_test = mean_squared_error(y_test, y_pred_test)\n",
    "rmse_test = np.sqrt(mse_test)\n",
    "print(f\"Root Mean Squared Error (Test): {rmse_test:.2f}\")\n",
    "\n",
    "# Calculate predictions on training data for training error\n",
    "y_pred_train = model.predict(X_train)\n",
    "\n",
    "# Mean Squared Error for training set\n",
    "mse_train = mean_squared_error(y_train, y_pred_train)\n",
    "rmse_train = np.sqrt(mse_train)\n",
    "print(f\"Root Mean Squared Error (Training): {rmse_train:.2f}\")\n",
    "\n",
    "# Visuals: Plot Actual Ratings vs Predicted Ratings for test set\n",
    "plt.scatter(y_test, y_pred_test)\n",
    "plt.xlabel('Actual Ratings')\n",
    "plt.ylabel('Predicted Ratings')\n",
    "plt.title('Actual vs Predicted Ratings (Ordinal Logistic Regression) - Test Set')\n",
    "plt.show()"
   ]
  },
  {
   "cell_type": "raw",
   "id": "3c4476cd-2a05-4c46-b51e-bf68139f928f",
   "metadata": {
    "deletable": false,
    "nbgrader": {
     "cell_type": "markdown",
     "checksum": "ae2eb3c5bfb58df974cf3569dcda099a",
     "grade": true,
     "grade_id": "Part4",
     "locked": false,
     "points": 4,
     "schema_version": 3,
     "solution": true,
     "task": false
    },
    "vscode": {
     "languageId": "raw"
    }
   },
   "source": [
    "We're using an ordinal logistic model. We wanted to test the x, y correlation between the polarity of the user review according to the vader lexicon and the rating. Originally We thought to use a linear regression model but after looking at a feature plot it was clear they were not linear. Since the rating is reserved to integer values between 1-10, ordinal logistic regression seemed to make sense. Generally polarity may not be a great predictor across drugs. We used a cross-entropy loss function due to it's effectiveness at handling classification problems. Unfortunately we can't declare this a good model. The RMSE is 3.23 which is not great considering thats slightly less than a third of the possible values.\n",
    "\n",
    "One of the models biggest setbacks is the variance in lexicon. This made it very hard to predict across multiple drug types. To combat this we limited the model to just birth control. "
   ]
  },
  {
   "cell_type": "markdown",
   "id": "3a125898-22b1-443d-a328-d1d779b4a748",
   "metadata": {
    "deletable": false,
    "editable": false,
    "nbgrader": {
     "cell_type": "markdown",
     "checksum": "c689995268daf42e0e6811c257a1b4c0",
     "grade": false,
     "grade_id": "cell-b6ad7fffe56a7bfb",
     "locked": true,
     "schema_version": 3,
     "solution": false,
     "task": false
    }
   },
   "source": [
    "---\n",
    "# Part 5: Summarizing your results"
   ]
  },
  {
   "cell_type": "markdown",
   "id": "138b879f-c6d6-4c54-84ab-937724f7e47b",
   "metadata": {
    "deletable": false,
    "editable": false,
    "nbgrader": {
     "cell_type": "markdown",
     "checksum": "104f5b607cda7a29cf18ce94569f5259",
     "grade": false,
     "grade_id": "cell-c416333c30491cb1",
     "locked": true,
     "schema_version": 3,
     "solution": false,
     "task": false
    }
   },
   "source": [
    "In conclusion, what was your question and how did you anwer it using your analysis"
   ]
  },
  {
   "cell_type": "markdown",
   "id": "22358c5b-60fb-489b-83d0-c63994a166e3",
   "metadata": {
    "deletable": false,
    "nbgrader": {
     "cell_type": "markdown",
     "checksum": "97268e798fa9a19dacfe94aed4614f66",
     "grade": true,
     "grade_id": "Part5",
     "locked": false,
     "points": 4,
     "schema_version": 3,
     "solution": true,
     "task": false
    }
   },
   "source": [
    "YOUR ANSWER HERE"
   ]
  },
  {
   "cell_type": "raw",
   "id": "ccffb4a5-e50b-420a-84a9-c245192624a3",
   "metadata": {},
   "source": [
    "We started by doing some exploratory data analysis of the drugs dataframe and some experimentation with the vader lexicon. The vader lexicon was super interesting, particulary becuase of our review field. Reviewing the lexicon of different drug types would be difficult though, becuase it could be like comparing apples to oranges. With the short deadline of this analysis it made more sense to simplify the model to a single type. During our group's brief visual anlysis of the data we noted the multitude of different birth control drugs, so we decided to make it the focus of our question. Can we predict a birth control drug's rating from the polarity of it's review using the vader lexicon?\n",
    "\n",
    "We attempted to answer this question by taking the drugs dataframe, containg the polarity column, and filtering it to just the type birth-control. We then scaled the polarity field to transform the data to a 1-10 scale, similar to the 1-10 scale the ratings field used. We then used an ordinal logistic model to predict the ratings. We got an RMSE of 3.23, which we used to classify our model as unproductive, since that is close to a third of the possible values. Our model cannot accurately predict the rating of birth control drugs from their reviews using the vader lexicon."
   ]
  }
 ],
 "metadata": {
  "kernelspec": {
   "display_name": "Python 3 (ipykernel)",
   "language": "python",
   "name": "python3"
  },
  "language_info": {
   "codemirror_mode": {
    "name": "ipython",
    "version": 3
   },
   "file_extension": ".py",
   "mimetype": "text/x-python",
   "name": "python",
   "nbconvert_exporter": "python",
   "pygments_lexer": "ipython3",
   "version": "3.10.14"
  }
 },
 "nbformat": 4,
 "nbformat_minor": 5
}
